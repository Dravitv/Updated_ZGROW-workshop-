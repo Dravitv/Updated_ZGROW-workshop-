{
  "nbformat": 4,
  "nbformat_minor": 0,
  "metadata": {
    "colab": {
      "provenance": [],
      "authorship_tag": "ABX9TyPsgN2dZ1wdPdcGJfyq41cz",
      "include_colab_link": true
    },
    "kernelspec": {
      "name": "python3",
      "display_name": "Python 3"
    },
    "language_info": {
      "name": "python"
    }
  },
  "cells": [
    {
      "cell_type": "markdown",
      "metadata": {
        "id": "view-in-github",
        "colab_type": "text"
      },
      "source": [
        "<a href=\"https://colab.research.google.com/github/Dravitv/Updated_ZGROW-workshop-/blob/main/types_of_attack.ipynb\" target=\"_parent\"><img src=\"https://colab.research.google.com/assets/colab-badge.svg\" alt=\"Open In Colab\"/></a>"
      ]
    },
    {
      "cell_type": "markdown",
      "source": [
        "**Brute-Force Attack Project in Python**"
      ],
      "metadata": {
        "id": "XwH57jCuiwNm"
      }
    },
    {
      "cell_type": "markdown",
      "source": [
        "Brute-Force Function (brute_force_attack):\n",
        "\n",
        "Generates combinations of characters up to the length of the target password.\n",
        "Compares each generated combination to the target password.\n",
        "Stops when the correct password is found and prints the result.\n"
      ],
      "metadata": {
        "id": "b9VZvnpU-JhU"
      }
    },
    {
      "cell_type": "code",
      "execution_count": null,
      "metadata": {
        "colab": {
          "base_uri": "https://localhost:8080/"
        },
        "id": "kmF4fqdAikUv",
        "outputId": "93063c35-6307-47dd-c86a-eba5b2aaafff"
      },
      "outputs": [
        {
          "output_type": "stream",
          "name": "stdout",
          "text": [
            "Attempting to brute-force the password: azdr10\n",
            "Password 'azdr10' cracked! The correct password is 'azdr10'\n",
            "Time taken: 19.94 seconds\n"
          ]
        }
      ],
      "source": [
        "import itertools\n",
        "import string\n",
        "import time\n",
        "\n",
        "# Define a function to perform the brute-force attack\n",
        "def brute_force_attack(password):\n",
        "    # Set of characters to use in the brute-force (lowercase letters and digits)\n",
        "    characters = string.ascii_lowercase + string.digits\n",
        "\n",
        "    # Start timer\n",
        "    start_time = time.time()\n",
        "\n",
        "    # Iterate over every possible length from 1 to the length of the password\n",
        "    for password_length in range(1, len(password) + 1):\n",
        "        # Generate all possible combinations of the given length\n",
        "        for guess in itertools.product(characters, repeat=password_length):\n",
        "            # Join the tuple into a string\n",
        "            guess = ''.join(guess)\n",
        "\n",
        "            # Check if the guessed password is correct\n",
        "            if guess == password:\n",
        "                end_time = time.time()\n",
        "                print(f\"Password '{password}' cracked! The correct password is '{guess}'\")\n",
        "                print(f\"Time taken: {end_time - start_time:.2f} seconds\")\n",
        "                return guess\n",
        "\n",
        "    print(\"Password not found!\")\n",
        "\n",
        "# Define a main function\n",
        "def main():\n",
        "    # Set the target password\n",
        "    password = \"azdr10\"  # You can change this to any password you want to try\n",
        "    print(f\"Attempting to brute-force the password: {password}\")\n",
        "\n",
        "    # Call the brute-force attack function\n",
        "    brute_force_attack(password)\n",
        "\n",
        "# Run the main function\n",
        "main()\n"
      ]
    },
    {
      "cell_type": "markdown",
      "source": [
        "**Dictionary Attack Simulation**\n",
        "\n"
      ],
      "metadata": {
        "id": "Lqf2camV6HLq"
      }
    },
    {
      "cell_type": "markdown",
      "source": [
        "A dictionary attack is another common method used to guess passwords. Unlike brute-force attacks, which try every possible combination, a dictionary attack uses a predefined list of potential passwords (a \"dictionary\")."
      ],
      "metadata": {
        "id": "uIm0ukYf92G7"
      }
    },
    {
      "cell_type": "code",
      "source": [
        "import time\n",
        "\n",
        "# Sample dictionary of common passwords\n",
        "common_passwords = [\n",
        "    \"123456\", \"password\", \"123456789\", \"12345678\", \"12345\", \"1234567\", \"admin\", \"letmein\", \"welcome\", \"abc123\"\n",
        "]\n",
        "\n",
        "# Function to simulate dictionary attack\n",
        "def dictionary_attack(target_password, password_list):\n",
        "    \"\"\"\n",
        "    Attempts to guess the target password using a list of common passwords.\n",
        "\n",
        "    Parameters:\n",
        "    - target_password (str): The password to guess.\n",
        "    - password_list (list): A list of possible passwords to try.\n",
        "\n",
        "    Returns:\n",
        "    - None\n",
        "    \"\"\"\n",
        "    start_time = time.time()\n",
        "\n",
        "    for guess in password_list:\n",
        "        print(f\"Trying password: {guess}\")\n",
        "        if guess == target_password:\n",
        "            end_time = time.time()\n",
        "            print(f\"Password '{target_password}' cracked! The correct password is '{guess}'\")\n",
        "            print(f\"Time taken: {end_time - start_time:.2f} seconds\")\n",
        "            return\n",
        "\n",
        "    print(\"Password not found in the provided dictionary!\")\n",
        "\n",
        "# Main function to demonstrate dictionary attack\n",
        "def main():\n",
        "    # The target password we are trying to guess\n",
        "    target_password = \"welcome\"  # Change this to test different passwords\n",
        "\n",
        "    print(f\"Attempting to dictionary attack the password: {target_password}\")\n",
        "\n",
        "    # Call the dictionary attack function\n",
        "    dictionary_attack(target_password, common_passwords)\n",
        "\n",
        "# Run the main function\n",
        "main()\n"
      ],
      "metadata": {
        "colab": {
          "base_uri": "https://localhost:8080/"
        },
        "id": "qYN_NuM18Q9V",
        "outputId": "2a3d1faa-6383-48c9-d69c-0069a57de83f"
      },
      "execution_count": null,
      "outputs": [
        {
          "output_type": "stream",
          "name": "stdout",
          "text": [
            "Attempting to dictionary attack the password: welcome\n",
            "Trying password: 123456\n",
            "Trying password: password\n",
            "Trying password: 123456789\n",
            "Trying password: 12345678\n",
            "Trying password: 12345\n",
            "Trying password: 1234567\n",
            "Trying password: admin\n",
            "Trying password: letmein\n",
            "Trying password: welcome\n",
            "Password 'welcome' cracked! The correct password is 'welcome'\n",
            "Time taken: 0.00 seconds\n"
          ]
        }
      ]
    },
    {
      "cell_type": "markdown",
      "source": [
        "**Caesar Cipher Encryption and Decryption**"
      ],
      "metadata": {
        "id": "Z3WZYF128hpS"
      }
    },
    {
      "cell_type": "markdown",
      "source": [
        "The Caesar Cipher is one of the simplest and most widely known encryption techniques. It involves shifting each letter in a plaintext message by a fixed number of places down or up the alphabet.\n",
        "\n"
      ],
      "metadata": {
        "id": "IeKZf1IQ9z8O"
      }
    },
    {
      "cell_type": "code",
      "source": [
        "def caesar_cipher_encrypt(text, shift):\n",
        "    \"\"\"\n",
        "    Encrypts the input text using the Caesar cipher technique.\n",
        "\n",
        "    Parameters:\n",
        "    - text (str): The text to encrypt.\n",
        "    - shift (int): The number of positions each character is shifted.\n",
        "\n",
        "    Returns:\n",
        "    - str: The encrypted text.\n",
        "    \"\"\"\n",
        "    encrypted_text = \"\"\n",
        "\n",
        "    for char in text:\n",
        "        if char.isalpha():  # Check if the character is an alphabet\n",
        "            shift_base = ord('A') if char.isupper() else ord('a')\n",
        "            # Shift character and wrap around the alphabet\n",
        "            encrypted_text += chr((ord(char) - shift_base + shift) % 26 + shift_base)\n",
        "        else:\n",
        "            encrypted_text += char\n",
        "\n",
        "    return encrypted_text\n",
        "\n",
        "def caesar_cipher_decrypt(text, shift):\n",
        "    \"\"\"\n",
        "    Decrypts the input text encrypted with the Caesar cipher technique.\n",
        "\n",
        "    Parameters:\n",
        "    - text (str): The text to decrypt.\n",
        "    - shift (int): The number of positions each character is shifted.\n",
        "\n",
        "    Returns:\n",
        "    - str: The decrypted text.\n",
        "    \"\"\"\n",
        "    return caesar_cipher_encrypt(text, -shift)\n",
        "\n",
        "# Main function to demonstrate Caesar Cipher encryption and decryption\n",
        "def main():\n",
        "    original_text = \"Hello, World!\"\n",
        "    shift_value = 3\n",
        "\n",
        "    print(f\"Original Text: {original_text}\")\n",
        "\n",
        "    # Encrypt the text\n",
        "    encrypted_text = caesar_cipher_encrypt(original_text, shift_value)\n",
        "    print(f\"Encrypted Text: {encrypted_text}\")\n",
        "\n",
        "    # Decrypt the text\n",
        "    decrypted_text = caesar_cipher_decrypt(encrypted_text, shift_value)\n",
        "    print(f\"Decrypted Text: {decrypted_text}\")\n",
        "\n",
        "# Run the main function\n",
        "main()\n"
      ],
      "metadata": {
        "colab": {
          "base_uri": "https://localhost:8080/"
        },
        "id": "AkHBj1728mMQ",
        "outputId": "e2358781-ea3d-4655-a1ae-db3c4cbf6b87"
      },
      "execution_count": null,
      "outputs": [
        {
          "output_type": "stream",
          "name": "stdout",
          "text": [
            "Original Text: Hello, World!\n",
            "Encrypted Text: Khoor, Zruog!\n",
            "Decrypted Text: Hello, World!\n"
          ]
        }
      ]
    },
    {
      "cell_type": "markdown",
      "source": [
        "**XOR Cipher for Simple Encryption**"
      ],
      "metadata": {
        "id": "ecY4kNph81E3"
      }
    },
    {
      "cell_type": "markdown",
      "source": [
        "The XOR (exclusive or) cipher is a type of encryption algorithm that uses a key to encrypt and decrypt data. This is a simple encryption method often used in obfuscation.\n",
        "\n"
      ],
      "metadata": {
        "id": "zLowBVTz9rVO"
      }
    },
    {
      "cell_type": "code",
      "source": [
        "def xor_cipher(data, key):\n",
        "    \"\"\"\n",
        "    Encrypts or decrypts the input data using XOR cipher with the given key.\n",
        "\n",
        "    Parameters:\n",
        "    - data (str): The text to encrypt or decrypt.\n",
        "    - key (str): The key to use for XOR operation.\n",
        "\n",
        "    Returns:\n",
        "    - str: The result of XOR encryption or decryption.\n",
        "    \"\"\"\n",
        "    return ''.join(chr(ord(c) ^ ord(key)) for c in data)\n",
        "\n",
        "# Main function to demonstrate XOR Cipher encryption and decryption\n",
        "def main():\n",
        "    original_text = \"Hello, XOR Cipher!\"\n",
        "    key = 'K'  # Key for XOR operation\n",
        "\n",
        "    print(f\"Original Text: {original_text}\")\n",
        "\n",
        "    # Encrypt the text\n",
        "    encrypted_text = xor_cipher(original_text, key)\n",
        "    print(f\"Encrypted Text: {encrypted_text}\")\n",
        "\n",
        "    # Decrypt the text (XOR encryption is symmetric)\n",
        "    decrypted_text = xor_cipher(encrypted_text, key)\n",
        "    print(f\"Decrypted Text: {decrypted_text}\")\n",
        "\n",
        "# Run the main function\n",
        "main()\n"
      ],
      "metadata": {
        "colab": {
          "base_uri": "https://localhost:8080/"
        },
        "id": "UOPBOU1o6vq_",
        "outputId": "74cb6efa-56ec-4aa9-af28-c9eb25712033"
      },
      "execution_count": null,
      "outputs": [
        {
          "output_type": "stream",
          "name": "stdout",
          "text": [
            "Original Text: Hello, XOR Cipher!\n",
            "Encrypted Text: \u0003.''$gk\u0013\u0004\u0019k\b\";#.9j\n",
            "Decrypted Text: Hello, XOR Cipher!\n"
          ]
        }
      ]
    },
    {
      "cell_type": "markdown",
      "source": [
        "**Simulating a Simple Man-in-the-Middle (MITM) Attack**"
      ],
      "metadata": {
        "id": "zgBvDWRX9BYn"
      }
    },
    {
      "cell_type": "markdown",
      "source": [
        "A Man-in-the-Middle (MITM) attack involves an attacker secretly intercepting and possibly altering the communication between two parties who believe they are directly communicating with each other.\n",
        "\n",
        "Python Code to Simulate Simple MITM Attack\n",
        "This is a simplified example showing how a MITM might intercept messages. Note: This is purely theoretical and for educational purposes only."
      ],
      "metadata": {
        "id": "rLcZb3gg9Qsu"
      }
    },
    {
      "cell_type": "code",
      "source": [
        "def sender():\n",
        "    \"\"\"\n",
        "    Simulates a sender sending a message.\n",
        "\n",
        "    Returns:\n",
        "    - str: The message to be sent.\n",
        "    \"\"\"\n",
        "    return \"Hello, this is a secret message.\"\n",
        "\n",
        "def receiver(message):\n",
        "    \"\"\"\n",
        "    Simulates a receiver receiving a message.\n",
        "\n",
        "    Parameters:\n",
        "    - message (str): The message received.\n",
        "\n",
        "    Returns:\n",
        "    - None\n",
        "    \"\"\"\n",
        "    print(f\"Receiver got message: {message}\")\n",
        "\n",
        "def mitm_attack(message):\n",
        "    \"\"\"\n",
        "    Simulates a man-in-the-middle attack by intercepting and modifying a message.\n",
        "\n",
        "    Parameters:\n",
        "    - message (str): The original message.\n",
        "\n",
        "    Returns:\n",
        "    - str: The modified message.\n",
        "    \"\"\"\n",
        "    print(f\"MITM intercepted message: {message}\")\n",
        "    modified_message = message.replace(\"secret\", \"tampered\")\n",
        "    print(f\"MITM modified message to: {modified_message}\")\n",
        "    return modified_message\n",
        "\n",
        "# Main function to demonstrate a simple MITM attack\n",
        "def main():\n",
        "    # Sender sends a message\n",
        "    original_message = sender()\n",
        "\n",
        "    # MITM intercepts and modifies the message\n",
        "    tampered_message = mitm_attack(original_message)\n",
        "\n",
        "    # Receiver gets the tampered message\n",
        "    receiver(tampered_message)\n",
        "\n",
        "# Run the main function\n",
        "main()\n"
      ],
      "metadata": {
        "id": "3BSiFuqQimZJ",
        "colab": {
          "base_uri": "https://localhost:8080/"
        },
        "outputId": "9445c5a9-dc32-4f2c-f40f-83f0b967b27d"
      },
      "execution_count": null,
      "outputs": [
        {
          "output_type": "stream",
          "name": "stdout",
          "text": [
            "MITM intercepted message: Hello, this is a secret message.\n",
            "MITM modified message to: Hello, this is a tampered message.\n",
            "Receiver got message: Hello, this is a tampered message.\n"
          ]
        }
      ]
    },
    {
      "cell_type": "markdown",
      "source": [
        "**SQL Injection Simulation**"
      ],
      "metadata": {
        "id": "Bpm8vHVI9U1B"
      }
    },
    {
      "cell_type": "markdown",
      "source": [
        "SQL Injection is a common web attack technique where malicious SQL statements are inserted into an input field for execution against a database.\n",
        "\n",
        "Python Code to Simulate SQL Injection\n",
        "This simulation demonstrates how SQL injection could be used to bypass simple login systems.\n",
        "\n"
      ],
      "metadata": {
        "id": "S3G7ntuL9ktx"
      }
    },
    {
      "cell_type": "code",
      "source": [
        "def login(username, password):\n",
        "    \"\"\"\n",
        "    Simulates a login function vulnerable to SQL injection.\n",
        "\n",
        "    Parameters:\n",
        "    - username (str): The username to log in with.\n",
        "    - password (str): The password to log in with.\n",
        "\n",
        "    Returns:\n",
        "    - str: Success or failure message.\n",
        "    \"\"\"\n",
        "    # Simulated database with a single user\n",
        "    database_username = \"admin\"\n",
        "    database_password = \"password123\"\n",
        "\n",
        "    # Vulnerable SQL query\n",
        "    query = f\"SELECT * FROM users WHERE username='{username}' AND password='{password}'\"\n",
        "    print(f\"Executing query: {query}\")\n",
        "\n",
        "    # Check if the injected query would always be true\n",
        "    if username == database_username and password == database_password:\n",
        "        return \"Login successful!\"\n",
        "    else:\n",
        "        return \"Login failed!\"\n",
        "\n",
        "# Main function to demonstrate SQL injection\n",
        "def main():\n",
        "    print(\"Simulating normal login attempt...\")\n",
        "    print(login(\"admin\", \"password123\"))  # Normal attempt\n",
        "\n",
        "    print(\"\\nSimulating SQL injection attack...\")\n",
        "    # Injection attempt\n",
        "    print(login(\"admin' OR '1'='1\", \"anything\"))\n",
        "\n",
        "# Run the main function\n",
        "main()\n"
      ],
      "metadata": {
        "colab": {
          "base_uri": "https://localhost:8080/"
        },
        "id": "Emgel5mZ6pv6",
        "outputId": "06ef9784-b6f1-4339-a3e0-4b424703a5e8"
      },
      "execution_count": null,
      "outputs": [
        {
          "output_type": "stream",
          "name": "stdout",
          "text": [
            "Simulating normal login attempt...\n",
            "Executing query: SELECT * FROM users WHERE username='admin' AND password='password123'\n",
            "Login successful!\n",
            "\n",
            "Simulating SQL injection attack...\n",
            "Executing query: SELECT * FROM users WHERE username='admin' OR '1'='1' AND password='anything'\n",
            "Login failed!\n"
          ]
        }
      ]
    }
  ]
}